{
 "cells": [
  {
   "cell_type": "code",
   "execution_count": 55,
   "metadata": {},
   "outputs": [],
   "source": [
    "# module dependencies\n",
    "import os\n",
    "import pandas as pd\n",
    "\n",
    "# path to our data csv\n",
    "f = os.path.join('Resources', 'purchase_data.csv')\n",
    "# build a pandas dataframe from our csv\n",
    "df = pd.read_csv(f)"
   ]
  },
  {
   "cell_type": "markdown",
   "metadata": {},
   "source": [
    "## Player Count"
   ]
  },
  {
   "cell_type": "code",
   "execution_count": 56,
   "metadata": {},
   "outputs": [
    {
     "name": "stdout",
     "output_type": "stream",
     "text": [
      "The number of unique players is 576.\n"
     ]
    }
   ],
   "source": [
    "# get all unique players\n",
    "pcount = df['SN'].unique()\n",
    "# count the unique players (could be done with .nunique() as well)\n",
    "print(f'The number of unique players is {len(pcount)}.')"
   ]
  },
  {
   "cell_type": "markdown",
   "metadata": {},
   "source": [
    "## Purchasing Analysis (Total)"
   ]
  },
  {
   "cell_type": "code",
   "execution_count": 57,
   "metadata": {
    "scrolled": true
   },
   "outputs": [
    {
     "data": {
      "text/html": [
       "<div>\n",
       "<style scoped>\n",
       "    .dataframe tbody tr th:only-of-type {\n",
       "        vertical-align: middle;\n",
       "    }\n",
       "\n",
       "    .dataframe tbody tr th {\n",
       "        vertical-align: top;\n",
       "    }\n",
       "\n",
       "    .dataframe thead th {\n",
       "        text-align: right;\n",
       "    }\n",
       "</style>\n",
       "<table border=\"1\" class=\"dataframe\">\n",
       "  <thead>\n",
       "    <tr style=\"text-align: right;\">\n",
       "      <th></th>\n",
       "      <th>Unique Items</th>\n",
       "      <th>Average Price</th>\n",
       "      <th>Total Purchases</th>\n",
       "      <th>Total Revenue</th>\n",
       "    </tr>\n",
       "  </thead>\n",
       "  <tbody>\n",
       "    <tr>\n",
       "      <th>Value</th>\n",
       "      <td>183</td>\n",
       "      <td>$3.05</td>\n",
       "      <td>780</td>\n",
       "      <td>$2379.77</td>\n",
       "    </tr>\n",
       "  </tbody>\n",
       "</table>\n",
       "</div>"
      ],
      "text/plain": [
       "       Unique Items Average Price  Total Purchases Total Revenue\n",
       "Value           183         $3.05              780      $2379.77"
      ]
     },
     "execution_count": 57,
     "metadata": {},
     "output_type": "execute_result"
    }
   ],
   "source": [
    "# number of unique items\n",
    "uitems = len(df['Item ID'].unique())\n",
    "# mean price\n",
    "avg_price = df['Price'].mean()\n",
    "# total purchase count\n",
    "purchases = df['Purchase ID'].count()\n",
    "# total revenue via sum on price\n",
    "revenue = df['Price'].sum()\n",
    "# put above values into dict for dataframe construction\n",
    "d = {\n",
    "    'Unique Items' : uitems,\n",
    "    'Average Price' : '$' + str(round(avg_price, 2)),\n",
    "    'Total Purchases' : purchases,\n",
    "    'Total Revenue' : '$' + str(revenue)\n",
    "    }\n",
    "# build our dataframe\n",
    "sum_df = pd.DataFrame(d, index = ['Value'])\n",
    "sum_df"
   ]
  },
  {
   "cell_type": "markdown",
   "metadata": {},
   "source": [
    "## Gender Demographics"
   ]
  },
  {
   "cell_type": "code",
   "execution_count": 58,
   "metadata": {},
   "outputs": [
    {
     "data": {
      "text/html": [
       "<div>\n",
       "<style scoped>\n",
       "    .dataframe tbody tr th:only-of-type {\n",
       "        vertical-align: middle;\n",
       "    }\n",
       "\n",
       "    .dataframe tbody tr th {\n",
       "        vertical-align: top;\n",
       "    }\n",
       "\n",
       "    .dataframe thead th {\n",
       "        text-align: right;\n",
       "    }\n",
       "</style>\n",
       "<table border=\"1\" class=\"dataframe\">\n",
       "  <thead>\n",
       "    <tr style=\"text-align: right;\">\n",
       "      <th></th>\n",
       "      <th>SN</th>\n",
       "    </tr>\n",
       "    <tr>\n",
       "      <th>Gender</th>\n",
       "      <th></th>\n",
       "    </tr>\n",
       "  </thead>\n",
       "  <tbody>\n",
       "    <tr>\n",
       "      <th>Female</th>\n",
       "      <td>81</td>\n",
       "    </tr>\n",
       "    <tr>\n",
       "      <th>Male</th>\n",
       "      <td>484</td>\n",
       "    </tr>\n",
       "    <tr>\n",
       "      <th>Other / Non-Disclosed</th>\n",
       "      <td>11</td>\n",
       "    </tr>\n",
       "  </tbody>\n",
       "</table>\n",
       "</div>"
      ],
      "text/plain": [
       "                        SN\n",
       "Gender                    \n",
       "Female                  81\n",
       "Male                   484\n",
       "Other / Non-Disclosed   11"
      ]
     },
     "execution_count": 58,
     "metadata": {},
     "output_type": "execute_result"
    }
   ],
   "source": [
    "# group by gender and count the number of unique vals in each group - pop to new dataframe\n",
    "df2 = df.groupby(\"Gender\")[\"SN\"].nunique().to_frame()\n",
    "df2"
   ]
  },
  {
   "cell_type": "markdown",
   "metadata": {},
   "source": [
    "\n",
    "## Purchasing Analysis (Gender)"
   ]
  },
  {
   "cell_type": "code",
   "execution_count": 80,
   "metadata": {},
   "outputs": [
    {
     "name": "stdout",
     "output_type": "stream",
     "text": [
      "Gender\n",
      "Female                    81\n",
      "Male                     484\n",
      "Other / Non-Disclosed     11\n",
      "Name: SN, dtype: int64\n",
      "\n",
      "\n",
      "                     Total Purchase Value  Purchase Count  \\\n",
      "Female                             361.94             113   \n",
      "Male                              1967.64             652   \n",
      "Other/Non-Disclosed                 50.19              15   \n",
      "\n",
      "                     Average Purchase Price  Average Total Purchase  \n",
      "Female                             3.203009                4.468395  \n",
      "Male                               3.017853                4.065372  \n",
      "Other/Non-Disclosed                3.346000                     NaN  \n",
      "\n",
      "\n"
     ]
    },
    {
     "data": {
      "text/html": [
       "<style  type=\"text/css\" >\n",
       "</style><table id=\"T_f29007ae_33c4_11ea_9472_704d7b87f13a\" ><thead>    <tr>        <th class=\"blank level0\" ></th>        <th class=\"col_heading level0 col0\" >Total Purchase Value</th>        <th class=\"col_heading level0 col1\" >Purchase Count</th>        <th class=\"col_heading level0 col2\" >Average Purchase Price</th>        <th class=\"col_heading level0 col3\" >Average Total Purchase</th>    </tr></thead><tbody>\n",
       "                <tr>\n",
       "                        <th id=\"T_f29007ae_33c4_11ea_9472_704d7b87f13alevel0_row0\" class=\"row_heading level0 row0\" >Female</th>\n",
       "                        <td id=\"T_f29007ae_33c4_11ea_9472_704d7b87f13arow0_col0\" class=\"data row0 col0\" >$361.94</td>\n",
       "                        <td id=\"T_f29007ae_33c4_11ea_9472_704d7b87f13arow0_col1\" class=\"data row0 col1\" >113</td>\n",
       "                        <td id=\"T_f29007ae_33c4_11ea_9472_704d7b87f13arow0_col2\" class=\"data row0 col2\" >$3.20</td>\n",
       "                        <td id=\"T_f29007ae_33c4_11ea_9472_704d7b87f13arow0_col3\" class=\"data row0 col3\" >$4.47</td>\n",
       "            </tr>\n",
       "            <tr>\n",
       "                        <th id=\"T_f29007ae_33c4_11ea_9472_704d7b87f13alevel0_row1\" class=\"row_heading level0 row1\" >Male</th>\n",
       "                        <td id=\"T_f29007ae_33c4_11ea_9472_704d7b87f13arow1_col0\" class=\"data row1 col0\" >$1,967.64</td>\n",
       "                        <td id=\"T_f29007ae_33c4_11ea_9472_704d7b87f13arow1_col1\" class=\"data row1 col1\" >652</td>\n",
       "                        <td id=\"T_f29007ae_33c4_11ea_9472_704d7b87f13arow1_col2\" class=\"data row1 col2\" >$3.02</td>\n",
       "                        <td id=\"T_f29007ae_33c4_11ea_9472_704d7b87f13arow1_col3\" class=\"data row1 col3\" >$4.07</td>\n",
       "            </tr>\n",
       "            <tr>\n",
       "                        <th id=\"T_f29007ae_33c4_11ea_9472_704d7b87f13alevel0_row2\" class=\"row_heading level0 row2\" >Other/Non-Disclosed</th>\n",
       "                        <td id=\"T_f29007ae_33c4_11ea_9472_704d7b87f13arow2_col0\" class=\"data row2 col0\" >$50.19</td>\n",
       "                        <td id=\"T_f29007ae_33c4_11ea_9472_704d7b87f13arow2_col1\" class=\"data row2 col1\" >15</td>\n",
       "                        <td id=\"T_f29007ae_33c4_11ea_9472_704d7b87f13arow2_col2\" class=\"data row2 col2\" >$3.35</td>\n",
       "                        <td id=\"T_f29007ae_33c4_11ea_9472_704d7b87f13arow2_col3\" class=\"data row2 col3\" >$nan</td>\n",
       "            </tr>\n",
       "    </tbody></table>"
      ],
      "text/plain": [
       "<pandas.io.formats.style.Styler at 0x1cc25210d30>"
      ]
     },
     "execution_count": 80,
     "metadata": {},
     "output_type": "execute_result"
    }
   ],
   "source": [
    "# get total purchase values\n",
    "dfa = df.groupby('Gender')['Price'].sum().tolist()\n",
    "# get purchase counts\n",
    "dfb = df.groupby('Gender')['Price'].count().tolist()\n",
    "# get average purchase price\n",
    "dfc = df.groupby('Gender')['Price'].mean().tolist()\n",
    "\n",
    "# dict for our incoming dataframe\n",
    "d = {\n",
    "    'Index' : ['Female','Male','Other/Non-Disclosed'],\n",
    "    'Total Purchase Value' : dfa,\n",
    "    'Purchase Count' : dfb,\n",
    "    'Average Purchase Price' : dfc,\n",
    "}\n",
    "\n",
    "# build our dataframe\n",
    "ndf = pd.DataFrame({k: v for k, v in d.items() if not k == 'Index'},\n",
    "                  index = d['Index'])\n",
    "\n",
    "# calculate average purchase per person (by gender)\n",
    "ndf['Average Total Purchase'] = ndf['Total Purchase Value'] / df.groupby('Gender')['SN'].nunique()\n",
    "\n",
    "print(df.groupby('Gender')['SN'].nunique())\n",
    "print('\\n')\n",
    "\n",
    "print(ndf)\n",
    "print('\\n')\n",
    "\n",
    "# format our dataframe for $ signs\n",
    "style_dict = {\n",
    "    'Total Purchase Value' : '${0:,.2f}', \n",
    "    'Average Purchase Price' : '${0:,.2f}',\n",
    "    'Average Total Purchase' : '${0:,.2f}'\n",
    "}\n",
    "ndf.style.format(style_dict)"
   ]
  },
  {
   "cell_type": "markdown",
   "metadata": {},
   "source": [
    "## Age Demographics"
   ]
  },
  {
   "cell_type": "code",
   "execution_count": 132,
   "metadata": {},
   "outputs": [
    {
     "data": {
      "text/html": [
       "<style  type=\"text/css\" >\n",
       "</style><table id=\"T_895307b8_33df_11ea_b34f_704d7b87f13a\" ><thead>    <tr>        <th class=\"blank level0\" ></th>        <th class=\"col_heading level0 col0\" >Total Count</th>        <th class=\"col_heading level0 col1\" >Percentage of Players</th>    </tr>    <tr>        <th class=\"index_name level0\" >Age Range</th>        <th class=\"blank\" ></th>        <th class=\"blank\" ></th>    </tr></thead><tbody>\n",
       "                <tr>\n",
       "                        <th id=\"T_895307b8_33df_11ea_b34f_704d7b87f13alevel0_row0\" class=\"row_heading level0 row0\" ><10</th>\n",
       "                        <td id=\"T_895307b8_33df_11ea_b34f_704d7b87f13arow0_col0\" class=\"data row0 col0\" >17</td>\n",
       "                        <td id=\"T_895307b8_33df_11ea_b34f_704d7b87f13arow0_col1\" class=\"data row0 col1\" >2.95%</td>\n",
       "            </tr>\n",
       "            <tr>\n",
       "                        <th id=\"T_895307b8_33df_11ea_b34f_704d7b87f13alevel0_row1\" class=\"row_heading level0 row1\" >10-14</th>\n",
       "                        <td id=\"T_895307b8_33df_11ea_b34f_704d7b87f13arow1_col0\" class=\"data row1 col0\" >22</td>\n",
       "                        <td id=\"T_895307b8_33df_11ea_b34f_704d7b87f13arow1_col1\" class=\"data row1 col1\" >3.82%</td>\n",
       "            </tr>\n",
       "            <tr>\n",
       "                        <th id=\"T_895307b8_33df_11ea_b34f_704d7b87f13alevel0_row2\" class=\"row_heading level0 row2\" >15-19</th>\n",
       "                        <td id=\"T_895307b8_33df_11ea_b34f_704d7b87f13arow2_col0\" class=\"data row2 col0\" >107</td>\n",
       "                        <td id=\"T_895307b8_33df_11ea_b34f_704d7b87f13arow2_col1\" class=\"data row2 col1\" >18.58%</td>\n",
       "            </tr>\n",
       "            <tr>\n",
       "                        <th id=\"T_895307b8_33df_11ea_b34f_704d7b87f13alevel0_row3\" class=\"row_heading level0 row3\" >20-24</th>\n",
       "                        <td id=\"T_895307b8_33df_11ea_b34f_704d7b87f13arow3_col0\" class=\"data row3 col0\" >258</td>\n",
       "                        <td id=\"T_895307b8_33df_11ea_b34f_704d7b87f13arow3_col1\" class=\"data row3 col1\" >44.79%</td>\n",
       "            </tr>\n",
       "            <tr>\n",
       "                        <th id=\"T_895307b8_33df_11ea_b34f_704d7b87f13alevel0_row4\" class=\"row_heading level0 row4\" >25-29</th>\n",
       "                        <td id=\"T_895307b8_33df_11ea_b34f_704d7b87f13arow4_col0\" class=\"data row4 col0\" >77</td>\n",
       "                        <td id=\"T_895307b8_33df_11ea_b34f_704d7b87f13arow4_col1\" class=\"data row4 col1\" >13.37%</td>\n",
       "            </tr>\n",
       "            <tr>\n",
       "                        <th id=\"T_895307b8_33df_11ea_b34f_704d7b87f13alevel0_row5\" class=\"row_heading level0 row5\" >30-34</th>\n",
       "                        <td id=\"T_895307b8_33df_11ea_b34f_704d7b87f13arow5_col0\" class=\"data row5 col0\" >52</td>\n",
       "                        <td id=\"T_895307b8_33df_11ea_b34f_704d7b87f13arow5_col1\" class=\"data row5 col1\" >9.03%</td>\n",
       "            </tr>\n",
       "            <tr>\n",
       "                        <th id=\"T_895307b8_33df_11ea_b34f_704d7b87f13alevel0_row6\" class=\"row_heading level0 row6\" >35-39</th>\n",
       "                        <td id=\"T_895307b8_33df_11ea_b34f_704d7b87f13arow6_col0\" class=\"data row6 col0\" >31</td>\n",
       "                        <td id=\"T_895307b8_33df_11ea_b34f_704d7b87f13arow6_col1\" class=\"data row6 col1\" >5.38%</td>\n",
       "            </tr>\n",
       "            <tr>\n",
       "                        <th id=\"T_895307b8_33df_11ea_b34f_704d7b87f13alevel0_row7\" class=\"row_heading level0 row7\" >40+</th>\n",
       "                        <td id=\"T_895307b8_33df_11ea_b34f_704d7b87f13arow7_col0\" class=\"data row7 col0\" >12</td>\n",
       "                        <td id=\"T_895307b8_33df_11ea_b34f_704d7b87f13arow7_col1\" class=\"data row7 col1\" >2.08%</td>\n",
       "            </tr>\n",
       "    </tbody></table>"
      ],
      "text/plain": [
       "<pandas.io.formats.style.Styler at 0x1cc25283c50>"
      ]
     },
     "execution_count": 132,
     "metadata": {},
     "output_type": "execute_result"
    }
   ],
   "source": [
    "bins = [0,9, 14, 19, 24, 29, 34, 39, 199]\n",
    "labls = ['<10','10-14','15-19','20-24','25-29','30-34','35-39','40+']\n",
    "\n",
    "dfa = df\n",
    "dfa['Age Range'] = pd.cut(df['Age'], bins, labels = labls)\n",
    "dfa = dfa.groupby('Age Range').nunique()\n",
    "dfa = dfa.drop(['Purchase ID', 'Age', 'Gender', 'Item ID', 'Item Name', 'Price', 'Age Range'], axis=1)\n",
    "dfa.rename(columns = {'SN' : 'Total Count'}, inplace = True)\n",
    "s = dfa['Total Count'].sum()\n",
    "dfa['Percentage of Players'] = dfa['Total Count'] / s\n",
    "style_dict = { 'Percentage of Players' : '{:.2%}' }\n",
    "dfa.style.format(style_dict)\n"
   ]
  },
  {
   "cell_type": "markdown",
   "metadata": {},
   "source": [
    "## Purchasing Analysis (Age)"
   ]
  },
  {
   "cell_type": "code",
   "execution_count": 172,
   "metadata": {},
   "outputs": [
    {
     "data": {
      "text/html": [
       "<style  type=\"text/css\" >\n",
       "</style><table id=\"T_194be312_33e8_11ea_a878_704d7b87f13a\" ><thead>    <tr>        <th class=\"blank level0\" ></th>        <th class=\"col_heading level0 col0\" >PurchaseCount</th>        <th class=\"col_heading level0 col1\" >TotalPurchaseValue</th>        <th class=\"col_heading level0 col2\" >AvgPurchasePrice</th>        <th class=\"col_heading level0 col3\" >AvgTotalPurchasePerPlayer</th>    </tr>    <tr>        <th class=\"index_name level0\" >Age Range</th>        <th class=\"blank\" ></th>        <th class=\"blank\" ></th>        <th class=\"blank\" ></th>        <th class=\"blank\" ></th>    </tr></thead><tbody>\n",
       "                <tr>\n",
       "                        <th id=\"T_194be312_33e8_11ea_a878_704d7b87f13alevel0_row0\" class=\"row_heading level0 row0\" ><10</th>\n",
       "                        <td id=\"T_194be312_33e8_11ea_a878_704d7b87f13arow0_col0\" class=\"data row0 col0\" >23</td>\n",
       "                        <td id=\"T_194be312_33e8_11ea_a878_704d7b87f13arow0_col1\" class=\"data row0 col1\" >$77.13</td>\n",
       "                        <td id=\"T_194be312_33e8_11ea_a878_704d7b87f13arow0_col2\" class=\"data row0 col2\" >$3.35</td>\n",
       "                        <td id=\"T_194be312_33e8_11ea_a878_704d7b87f13arow0_col3\" class=\"data row0 col3\" >$4.54</td>\n",
       "            </tr>\n",
       "            <tr>\n",
       "                        <th id=\"T_194be312_33e8_11ea_a878_704d7b87f13alevel0_row1\" class=\"row_heading level0 row1\" >10-14</th>\n",
       "                        <td id=\"T_194be312_33e8_11ea_a878_704d7b87f13arow1_col0\" class=\"data row1 col0\" >28</td>\n",
       "                        <td id=\"T_194be312_33e8_11ea_a878_704d7b87f13arow1_col1\" class=\"data row1 col1\" >$82.78</td>\n",
       "                        <td id=\"T_194be312_33e8_11ea_a878_704d7b87f13arow1_col2\" class=\"data row1 col2\" >$2.96</td>\n",
       "                        <td id=\"T_194be312_33e8_11ea_a878_704d7b87f13arow1_col3\" class=\"data row1 col3\" >$3.76</td>\n",
       "            </tr>\n",
       "            <tr>\n",
       "                        <th id=\"T_194be312_33e8_11ea_a878_704d7b87f13alevel0_row2\" class=\"row_heading level0 row2\" >15-19</th>\n",
       "                        <td id=\"T_194be312_33e8_11ea_a878_704d7b87f13arow2_col0\" class=\"data row2 col0\" >136</td>\n",
       "                        <td id=\"T_194be312_33e8_11ea_a878_704d7b87f13arow2_col1\" class=\"data row2 col1\" >$412.89</td>\n",
       "                        <td id=\"T_194be312_33e8_11ea_a878_704d7b87f13arow2_col2\" class=\"data row2 col2\" >$3.04</td>\n",
       "                        <td id=\"T_194be312_33e8_11ea_a878_704d7b87f13arow2_col3\" class=\"data row2 col3\" >$3.86</td>\n",
       "            </tr>\n",
       "            <tr>\n",
       "                        <th id=\"T_194be312_33e8_11ea_a878_704d7b87f13alevel0_row3\" class=\"row_heading level0 row3\" >20-24</th>\n",
       "                        <td id=\"T_194be312_33e8_11ea_a878_704d7b87f13arow3_col0\" class=\"data row3 col0\" >365</td>\n",
       "                        <td id=\"T_194be312_33e8_11ea_a878_704d7b87f13arow3_col1\" class=\"data row3 col1\" >$1,114.06</td>\n",
       "                        <td id=\"T_194be312_33e8_11ea_a878_704d7b87f13arow3_col2\" class=\"data row3 col2\" >$3.05</td>\n",
       "                        <td id=\"T_194be312_33e8_11ea_a878_704d7b87f13arow3_col3\" class=\"data row3 col3\" >$4.32</td>\n",
       "            </tr>\n",
       "            <tr>\n",
       "                        <th id=\"T_194be312_33e8_11ea_a878_704d7b87f13alevel0_row4\" class=\"row_heading level0 row4\" >25-29</th>\n",
       "                        <td id=\"T_194be312_33e8_11ea_a878_704d7b87f13arow4_col0\" class=\"data row4 col0\" >101</td>\n",
       "                        <td id=\"T_194be312_33e8_11ea_a878_704d7b87f13arow4_col1\" class=\"data row4 col1\" >$293.00</td>\n",
       "                        <td id=\"T_194be312_33e8_11ea_a878_704d7b87f13arow4_col2\" class=\"data row4 col2\" >$2.90</td>\n",
       "                        <td id=\"T_194be312_33e8_11ea_a878_704d7b87f13arow4_col3\" class=\"data row4 col3\" >$3.81</td>\n",
       "            </tr>\n",
       "            <tr>\n",
       "                        <th id=\"T_194be312_33e8_11ea_a878_704d7b87f13alevel0_row5\" class=\"row_heading level0 row5\" >30-34</th>\n",
       "                        <td id=\"T_194be312_33e8_11ea_a878_704d7b87f13arow5_col0\" class=\"data row5 col0\" >73</td>\n",
       "                        <td id=\"T_194be312_33e8_11ea_a878_704d7b87f13arow5_col1\" class=\"data row5 col1\" >$214.00</td>\n",
       "                        <td id=\"T_194be312_33e8_11ea_a878_704d7b87f13arow5_col2\" class=\"data row5 col2\" >$2.93</td>\n",
       "                        <td id=\"T_194be312_33e8_11ea_a878_704d7b87f13arow5_col3\" class=\"data row5 col3\" >$4.12</td>\n",
       "            </tr>\n",
       "            <tr>\n",
       "                        <th id=\"T_194be312_33e8_11ea_a878_704d7b87f13alevel0_row6\" class=\"row_heading level0 row6\" >35-39</th>\n",
       "                        <td id=\"T_194be312_33e8_11ea_a878_704d7b87f13arow6_col0\" class=\"data row6 col0\" >41</td>\n",
       "                        <td id=\"T_194be312_33e8_11ea_a878_704d7b87f13arow6_col1\" class=\"data row6 col1\" >$147.67</td>\n",
       "                        <td id=\"T_194be312_33e8_11ea_a878_704d7b87f13arow6_col2\" class=\"data row6 col2\" >$3.60</td>\n",
       "                        <td id=\"T_194be312_33e8_11ea_a878_704d7b87f13arow6_col3\" class=\"data row6 col3\" >$4.76</td>\n",
       "            </tr>\n",
       "            <tr>\n",
       "                        <th id=\"T_194be312_33e8_11ea_a878_704d7b87f13alevel0_row7\" class=\"row_heading level0 row7\" >40+</th>\n",
       "                        <td id=\"T_194be312_33e8_11ea_a878_704d7b87f13arow7_col0\" class=\"data row7 col0\" >13</td>\n",
       "                        <td id=\"T_194be312_33e8_11ea_a878_704d7b87f13arow7_col1\" class=\"data row7 col1\" >$38.24</td>\n",
       "                        <td id=\"T_194be312_33e8_11ea_a878_704d7b87f13arow7_col2\" class=\"data row7 col2\" >$2.94</td>\n",
       "                        <td id=\"T_194be312_33e8_11ea_a878_704d7b87f13arow7_col3\" class=\"data row7 col3\" >$3.19</td>\n",
       "            </tr>\n",
       "    </tbody></table>"
      ],
      "text/plain": [
       "<pandas.io.formats.style.Styler at 0x1cc25366ef0>"
      ]
     },
     "execution_count": 172,
     "metadata": {},
     "output_type": "execute_result"
    }
   ],
   "source": [
    "bins = [0, 9, 14, 19, 24, 29, 34, 39, 199]\n",
    "labls = ['<10','10-14','15-19','20-24','25-29','30-34','35-39','40+']\n",
    "\n",
    "dfa = df\n",
    "dfa['Age Range'] = pd.cut(df['Age'], bins, labels = labls)\n",
    "dff = pd.DataFrame()\n",
    "\n",
    "dff['PurchaseCount'] = dfa.groupby('Age Range').SN.count()\n",
    "dff['TotalPurchaseValue'] = dfa.groupby('Age Range').Price.sum()\n",
    "dff['AvgPurchasePrice'] = dfa.groupby('Age Range').Price.mean()\n",
    "dff['AvgTotalPurchasePerPlayer'] = dfc / dfa.groupby('Age Range').SN.nunique()\n",
    "\n",
    "# format our dataframe for $ signs\n",
    "style_dict = {\n",
    "    'TotalPurchaseValue' : '${0:,.2f}', \n",
    "    'AvgPurchasePrice' : '${0:,.2f}',\n",
    "    'AvgTotalPurchasePerPlayer' : '${0:,.2f}'\n",
    "}\n",
    "dff.style.format(style_dict)"
   ]
  },
  {
   "cell_type": "markdown",
   "metadata": {},
   "source": [
    "## Top Spenders"
   ]
  },
  {
   "cell_type": "markdown",
   "metadata": {},
   "source": [
    "* Run basic calculations to obtain the results in the table below\n",
    "\n",
    "\n",
    "* Create a summary data frame to hold the results\n",
    "\n",
    "\n",
    "* Sort the total purchase value column in descending order\n",
    "\n",
    "\n",
    "* Optional: give the displayed data cleaner formatting\n",
    "\n",
    "\n",
    "* Display a preview of the summary data frame\n",
    "\n"
   ]
  },
  {
   "cell_type": "code",
   "execution_count": 8,
   "metadata": {},
   "outputs": [
    {
     "data": {
      "text/html": [
       "<div>\n",
       "<style scoped>\n",
       "    .dataframe tbody tr th:only-of-type {\n",
       "        vertical-align: middle;\n",
       "    }\n",
       "\n",
       "    .dataframe tbody tr th {\n",
       "        vertical-align: top;\n",
       "    }\n",
       "\n",
       "    .dataframe thead th {\n",
       "        text-align: right;\n",
       "    }\n",
       "</style>\n",
       "<table border=\"1\" class=\"dataframe\">\n",
       "  <thead>\n",
       "    <tr style=\"text-align: right;\">\n",
       "      <th></th>\n",
       "      <th>Purchase Count</th>\n",
       "      <th>Average Purchase Price</th>\n",
       "      <th>Total Purchase Value</th>\n",
       "    </tr>\n",
       "    <tr>\n",
       "      <th>SN</th>\n",
       "      <th></th>\n",
       "      <th></th>\n",
       "      <th></th>\n",
       "    </tr>\n",
       "  </thead>\n",
       "  <tbody>\n",
       "    <tr>\n",
       "      <th>Lisosia93</th>\n",
       "      <td>5</td>\n",
       "      <td>$3.79</td>\n",
       "      <td>$18.96</td>\n",
       "    </tr>\n",
       "    <tr>\n",
       "      <th>Idastidru52</th>\n",
       "      <td>4</td>\n",
       "      <td>$3.86</td>\n",
       "      <td>$15.45</td>\n",
       "    </tr>\n",
       "    <tr>\n",
       "      <th>Chamjask73</th>\n",
       "      <td>3</td>\n",
       "      <td>$4.61</td>\n",
       "      <td>$13.83</td>\n",
       "    </tr>\n",
       "    <tr>\n",
       "      <th>Iral74</th>\n",
       "      <td>4</td>\n",
       "      <td>$3.40</td>\n",
       "      <td>$13.62</td>\n",
       "    </tr>\n",
       "    <tr>\n",
       "      <th>Iskadarya95</th>\n",
       "      <td>3</td>\n",
       "      <td>$4.37</td>\n",
       "      <td>$13.10</td>\n",
       "    </tr>\n",
       "  </tbody>\n",
       "</table>\n",
       "</div>"
      ],
      "text/plain": [
       "             Purchase Count Average Purchase Price Total Purchase Value\n",
       "SN                                                                     \n",
       "Lisosia93                 5                  $3.79               $18.96\n",
       "Idastidru52               4                  $3.86               $15.45\n",
       "Chamjask73                3                  $4.61               $13.83\n",
       "Iral74                    4                  $3.40               $13.62\n",
       "Iskadarya95               3                  $4.37               $13.10"
      ]
     },
     "execution_count": 8,
     "metadata": {},
     "output_type": "execute_result"
    }
   ],
   "source": []
  },
  {
   "cell_type": "markdown",
   "metadata": {},
   "source": [
    "## Most Popular Items"
   ]
  },
  {
   "cell_type": "markdown",
   "metadata": {},
   "source": [
    "* Retrieve the Item ID, Item Name, and Item Price columns\n",
    "\n",
    "\n",
    "* Group by Item ID and Item Name. Perform calculations to obtain purchase count, item price, and total purchase value\n",
    "\n",
    "\n",
    "* Create a summary data frame to hold the results\n",
    "\n",
    "\n",
    "* Sort the purchase count column in descending order\n",
    "\n",
    "\n",
    "* Optional: give the displayed data cleaner formatting\n",
    "\n",
    "\n",
    "* Display a preview of the summary data frame\n",
    "\n"
   ]
  },
  {
   "cell_type": "code",
   "execution_count": 9,
   "metadata": {},
   "outputs": [
    {
     "data": {
      "text/html": [
       "<div>\n",
       "<style scoped>\n",
       "    .dataframe tbody tr th:only-of-type {\n",
       "        vertical-align: middle;\n",
       "    }\n",
       "\n",
       "    .dataframe tbody tr th {\n",
       "        vertical-align: top;\n",
       "    }\n",
       "\n",
       "    .dataframe thead th {\n",
       "        text-align: right;\n",
       "    }\n",
       "</style>\n",
       "<table border=\"1\" class=\"dataframe\">\n",
       "  <thead>\n",
       "    <tr style=\"text-align: right;\">\n",
       "      <th></th>\n",
       "      <th></th>\n",
       "      <th>Purchase Count</th>\n",
       "      <th>Item Price</th>\n",
       "      <th>Total Purchase Value</th>\n",
       "    </tr>\n",
       "    <tr>\n",
       "      <th>Item ID</th>\n",
       "      <th>Item Name</th>\n",
       "      <th></th>\n",
       "      <th></th>\n",
       "      <th></th>\n",
       "    </tr>\n",
       "  </thead>\n",
       "  <tbody>\n",
       "    <tr>\n",
       "      <th>178</th>\n",
       "      <th>Oathbreaker, Last Hope of the Breaking Storm</th>\n",
       "      <td>12</td>\n",
       "      <td>$4.23</td>\n",
       "      <td>$50.76</td>\n",
       "    </tr>\n",
       "    <tr>\n",
       "      <th>145</th>\n",
       "      <th>Fiery Glass Crusader</th>\n",
       "      <td>9</td>\n",
       "      <td>$4.58</td>\n",
       "      <td>$41.22</td>\n",
       "    </tr>\n",
       "    <tr>\n",
       "      <th>108</th>\n",
       "      <th>Extraction, Quickblade Of Trembling Hands</th>\n",
       "      <td>9</td>\n",
       "      <td>$3.53</td>\n",
       "      <td>$31.77</td>\n",
       "    </tr>\n",
       "    <tr>\n",
       "      <th>82</th>\n",
       "      <th>Nirvana</th>\n",
       "      <td>9</td>\n",
       "      <td>$4.90</td>\n",
       "      <td>$44.10</td>\n",
       "    </tr>\n",
       "    <tr>\n",
       "      <th>19</th>\n",
       "      <th>Pursuit, Cudgel of Necromancy</th>\n",
       "      <td>8</td>\n",
       "      <td>$1.02</td>\n",
       "      <td>$8.16</td>\n",
       "    </tr>\n",
       "  </tbody>\n",
       "</table>\n",
       "</div>"
      ],
      "text/plain": [
       "                                                     Purchase Count  \\\n",
       "Item ID Item Name                                                     \n",
       "178     Oathbreaker, Last Hope of the Breaking Storm             12   \n",
       "145     Fiery Glass Crusader                                      9   \n",
       "108     Extraction, Quickblade Of Trembling Hands                 9   \n",
       "82      Nirvana                                                   9   \n",
       "19      Pursuit, Cudgel of Necromancy                             8   \n",
       "\n",
       "                                                     Item Price  \\\n",
       "Item ID Item Name                                                 \n",
       "178     Oathbreaker, Last Hope of the Breaking Storm      $4.23   \n",
       "145     Fiery Glass Crusader                              $4.58   \n",
       "108     Extraction, Quickblade Of Trembling Hands         $3.53   \n",
       "82      Nirvana                                           $4.90   \n",
       "19      Pursuit, Cudgel of Necromancy                     $1.02   \n",
       "\n",
       "                                                     Total Purchase Value  \n",
       "Item ID Item Name                                                          \n",
       "178     Oathbreaker, Last Hope of the Breaking Storm               $50.76  \n",
       "145     Fiery Glass Crusader                                       $41.22  \n",
       "108     Extraction, Quickblade Of Trembling Hands                  $31.77  \n",
       "82      Nirvana                                                    $44.10  \n",
       "19      Pursuit, Cudgel of Necromancy                               $8.16  "
      ]
     },
     "execution_count": 9,
     "metadata": {},
     "output_type": "execute_result"
    }
   ],
   "source": []
  },
  {
   "cell_type": "markdown",
   "metadata": {},
   "source": [
    "## Most Profitable Items"
   ]
  },
  {
   "cell_type": "markdown",
   "metadata": {},
   "source": [
    "* Sort the above table by total purchase value in descending order\n",
    "\n",
    "\n",
    "* Optional: give the displayed data cleaner formatting\n",
    "\n",
    "\n",
    "* Display a preview of the data frame\n",
    "\n"
   ]
  },
  {
   "cell_type": "code",
   "execution_count": 10,
   "metadata": {
    "scrolled": true
   },
   "outputs": [
    {
     "data": {
      "text/html": [
       "<div>\n",
       "<style scoped>\n",
       "    .dataframe tbody tr th:only-of-type {\n",
       "        vertical-align: middle;\n",
       "    }\n",
       "\n",
       "    .dataframe tbody tr th {\n",
       "        vertical-align: top;\n",
       "    }\n",
       "\n",
       "    .dataframe thead th {\n",
       "        text-align: right;\n",
       "    }\n",
       "</style>\n",
       "<table border=\"1\" class=\"dataframe\">\n",
       "  <thead>\n",
       "    <tr style=\"text-align: right;\">\n",
       "      <th></th>\n",
       "      <th></th>\n",
       "      <th>Purchase Count</th>\n",
       "      <th>Item Price</th>\n",
       "      <th>Total Purchase Value</th>\n",
       "    </tr>\n",
       "    <tr>\n",
       "      <th>Item ID</th>\n",
       "      <th>Item Name</th>\n",
       "      <th></th>\n",
       "      <th></th>\n",
       "      <th></th>\n",
       "    </tr>\n",
       "  </thead>\n",
       "  <tbody>\n",
       "    <tr>\n",
       "      <th>178</th>\n",
       "      <th>Oathbreaker, Last Hope of the Breaking Storm</th>\n",
       "      <td>12</td>\n",
       "      <td>$4.23</td>\n",
       "      <td>$50.76</td>\n",
       "    </tr>\n",
       "    <tr>\n",
       "      <th>82</th>\n",
       "      <th>Nirvana</th>\n",
       "      <td>9</td>\n",
       "      <td>$4.90</td>\n",
       "      <td>$44.10</td>\n",
       "    </tr>\n",
       "    <tr>\n",
       "      <th>145</th>\n",
       "      <th>Fiery Glass Crusader</th>\n",
       "      <td>9</td>\n",
       "      <td>$4.58</td>\n",
       "      <td>$41.22</td>\n",
       "    </tr>\n",
       "    <tr>\n",
       "      <th>92</th>\n",
       "      <th>Final Critic</th>\n",
       "      <td>8</td>\n",
       "      <td>$4.88</td>\n",
       "      <td>$39.04</td>\n",
       "    </tr>\n",
       "    <tr>\n",
       "      <th>103</th>\n",
       "      <th>Singed Scalpel</th>\n",
       "      <td>8</td>\n",
       "      <td>$4.35</td>\n",
       "      <td>$34.80</td>\n",
       "    </tr>\n",
       "  </tbody>\n",
       "</table>\n",
       "</div>"
      ],
      "text/plain": [
       "                                                     Purchase Count  \\\n",
       "Item ID Item Name                                                     \n",
       "178     Oathbreaker, Last Hope of the Breaking Storm             12   \n",
       "82      Nirvana                                                   9   \n",
       "145     Fiery Glass Crusader                                      9   \n",
       "92      Final Critic                                              8   \n",
       "103     Singed Scalpel                                            8   \n",
       "\n",
       "                                                     Item Price  \\\n",
       "Item ID Item Name                                                 \n",
       "178     Oathbreaker, Last Hope of the Breaking Storm      $4.23   \n",
       "82      Nirvana                                           $4.90   \n",
       "145     Fiery Glass Crusader                              $4.58   \n",
       "92      Final Critic                                      $4.88   \n",
       "103     Singed Scalpel                                    $4.35   \n",
       "\n",
       "                                                     Total Purchase Value  \n",
       "Item ID Item Name                                                          \n",
       "178     Oathbreaker, Last Hope of the Breaking Storm               $50.76  \n",
       "82      Nirvana                                                    $44.10  \n",
       "145     Fiery Glass Crusader                                       $41.22  \n",
       "92      Final Critic                                               $39.04  \n",
       "103     Singed Scalpel                                             $34.80  "
      ]
     },
     "execution_count": 10,
     "metadata": {},
     "output_type": "execute_result"
    }
   ],
   "source": []
  }
 ],
 "metadata": {
  "anaconda-cloud": {},
  "kernel_info": {
   "name": "python3"
  },
  "kernelspec": {
   "display_name": "Python 3",
   "language": "python",
   "name": "python3"
  },
  "language_info": {
   "codemirror_mode": {
    "name": "ipython",
    "version": 3
   },
   "file_extension": ".py",
   "mimetype": "text/x-python",
   "name": "python",
   "nbconvert_exporter": "python",
   "pygments_lexer": "ipython3",
   "version": "3.6.8"
  },
  "latex_envs": {
   "LaTeX_envs_menu_present": true,
   "autoclose": false,
   "autocomplete": true,
   "bibliofile": "biblio.bib",
   "cite_by": "apalike",
   "current_citInitial": 1,
   "eqLabelWithNumbers": true,
   "eqNumInitial": 1,
   "hotkeys": {
    "equation": "Ctrl-E",
    "itemize": "Ctrl-I"
   },
   "labels_anchors": false,
   "latex_user_defs": false,
   "report_style_numbering": false,
   "user_envs_cfg": false
  },
  "nteract": {
   "version": "0.2.0"
  }
 },
 "nbformat": 4,
 "nbformat_minor": 4
}
